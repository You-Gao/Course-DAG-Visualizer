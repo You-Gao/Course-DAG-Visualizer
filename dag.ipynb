{
 "cells": [
  {
   "cell_type": "code",
   "execution_count": 61,
   "metadata": {},
   "outputs": [],
   "source": [
    "import networkx as nx\n",
    "import matplotlib.pyplot as plt\n",
    "from graphviz import Digraph\n",
    "sns.set(style=\"ticks\")\n"
   ]
  },
  {
   "cell_type": "code",
   "execution_count": 62,
   "metadata": {},
   "outputs": [],
   "source": [
    "def generateDict(file):\n",
    "    d = {}\n",
    "    with open(file) as f:\n",
    "        for line in f:\n",
    "            content = line.replace(\"\\n\", \"\").split(\",\")\n",
    "            course = content[0]\n",
    "            prerequisites = [x.strip() for x in content[1:]]\n",
    "            prerequisites.sort(key=len, reverse=True)\n",
    "            d[course] = prerequisites\n",
    "    return d\n",
    "\n",
    "def getCompletedCourses(file):\n",
    "    with open(file) as f:\n",
    "        completed = f.read().splitlines()\n",
    "        completed_split = [line.split(\",\") for line in completed]\n",
    "        return [item.strip() for line in completed_split for item in line]\n",
    "    \n",
    "def generateBarGraph(percentage):\n",
    "    plt.figure(figsize=(26.5, 1))\n",
    "    series = pd.Series(percentage)\n",
    "    sns.barplot(x=series.values, y=series.index.astype(str), color=\"black\")\n",
    "    plt.xticks(range(0, 101, 10), size=20)\n",
    "    plt.yticks([])\n",
    "    sns.despine(left=True, bottom=True)\n",
    "    plt.title(\"Course Progress for CS Major (2 Courses Until Completion)\", fontsize = 30, fontfamily = \"monospace\")\n",
    "    plt.savefig('bar_graph.pdf', bbox_inches='tight', pad_inches=0.1)\n",
    "    return 1\n",
    "\n",
    "def generateGraph(d):\n",
    "    G = nx.DiGraph()\n",
    "    for course in d:\n",
    "        G.add_node(course)\n",
    "        for prerequisite in d[course]:\n",
    "            G.add_edge(course, prerequisite)\n",
    "    return G\n",
    "\n",
    "def generateStackedGraph(d):\n",
    "    G = nx.DiGraph()\n",
    "    for course in d:\n",
    "        G.add_node(course)\n",
    "        before_node = course\n",
    "        for prerequisite in d[course]:\n",
    "            G.add_node(prerequisite)\n",
    "            G.add_edge(before_node, prerequisite)\n",
    "            before_node = prerequisite \n",
    "    return G\n",
    "\n",
    "def topologicalSort(G):\n",
    "    return list(nx.topological_sort(G))\n",
    "\n",
    "def drawGraph(G, completed):\n",
    "    dot = Digraph()\n",
    "    for node in G.nodes():\n",
    "        if node in completed:\n",
    "            # stub for assignment\n",
    "            if node == \"Advanced Software Development\":\n",
    "                dot.node(node, color='yellow', style='filled')\n",
    "            # stub for assignment\n",
    "            elif node == \"Internet Scale Architecture\" or node == \"Discrete Math and Theory 2\":\n",
    "                dot.node(node, color='gray', style='filled')\n",
    "            else:\n",
    "                dot.node(node, color='green', style='filled')\n",
    "        else:\n",
    "            dot.node(node)\n",
    "    for edge in G.edges():\n",
    "        dot.edge(edge[0], edge[1], tailport='w', headport='e', arrowhead='none')\n",
    "    \n",
    "    dot.graph_attr['ranksep'] = '7.5'\n",
    "    dot.node_attr['shape'] = 'box'\n",
    "    dot.node_attr['nodesep'] = '2'\n",
    "    dot.graph_attr['rankdir'] = 'RL'\n",
    "    dot.node_attr.update(fontsize='50')\n",
    "    dot.graph_attr['size'] = '20,10'\n",
    "    \n",
    "    dot.render('course_pathway.gv', view=True)\n",
    "    \n",
    "def drawSemesterGraph(G):\n",
    "    dot = Digraph()\n",
    "    coloring = \"green\"\n",
    "    for node in G.nodes():\n",
    "        # stub for semester coloring\n",
    "        if node == \"Spring 2024\":\n",
    "            coloring = \"yellow\"\n",
    "        elif node == \"Fall 2024\":\n",
    "            coloring = \"gray\"\n",
    "        # dont color sem titles\n",
    "        if node[-4:].isdigit():\n",
    "            dot.node(node, color=coloring, style='filled')\n",
    "        else:\n",
    "            dot.node(node)\n",
    "    for edge in G.edges():\n",
    "        # edge style invis\n",
    "        dot.edge(edge[0], edge[1], style='invis')\n",
    "        \n",
    "    \n",
    "    dot.attr('node', shape='plain')\n",
    "    \n",
    "    dot.graph_attr['ranksep'] = '.3'\n",
    "    dot.node_attr['shape'] = 'box'\n",
    "    dot.graph_attr['rankdir'] = 'TB'\n",
    "    dot.node_attr.update(fontsize='50')\n",
    "    dot.graph_attr['size'] = '20,10'\n",
    "\n",
    "    # title name edited on later\n",
    "    dot.attr(label=\" \", labelloc=\"tp\", fontsize='75', fontname=\"monospace\")\n",
    "\n",
    "    \n",
    "        \n",
    "    dot.render('semesters.gv', view=True)\n",
    "    \n",
    "def drawMajorRequirements():\n",
    "    # stubbed for cs major\n",
    "    G = nx.DiGraph()\n",
    "    # core course\n",
    "    G.add_node(\"CS Core (Courses 5/6)\")\n",
    "    # cs electives\n",
    "    G.add_node(\"CS Electives (Units 6/9)\")\n",
    "    # integration electives\n",
    "    G.add_node(\"Integration Elective (Units 10/12)\")\n",
    "    dot = Digraph()\n",
    "    for node in G.nodes():\n",
    "        dot.node(node)\n",
    "    for edge in G.edges():\n",
    "        dot.edge(edge[0], edge[1])\n",
    "    \n",
    "    dot.attr('node', shape='plain')\n",
    "    \n",
    "    dot.graph_attr['ranksep'] = '.3'\n",
    "    dot.node_attr['shape'] = 'box'\n",
    "    dot.graph_attr['rankdir'] = 'TB'\n",
    "    dot.node_attr.update(fontsize='50')\n",
    "    dot.graph_attr['size'] = '20,10'\n",
    "\n",
    "    dot.render('major_requirements.gv', view=True)\n",
    "\n",
    "        \n",
    "# stack pdf files\n",
    "def stackPDFs():\n",
    "    import PyPDF2\n",
    "    pdfs = ['major_requirements.gv.pdf','semesters.gv.pdf','course_pathway.gv.pdf']\n",
    "    merger = PyPDF2.PdfMerger()\n",
    "    for pdf in pdfs:\n",
    "        merger.append(pdf)\n",
    "    merger.write(\"output.pdf\")\n",
    "    merger.close()\n",
    "    "
   ]
  },
  {
   "cell_type": "code",
   "execution_count": 63,
   "metadata": {},
   "outputs": [],
   "source": [
    "file = \"example_semester_courses.txt\" # courses taken in $semester, $prerequisite1, $prerequisite2 form\n",
    "d = generateDict(file)\n",
    "H = generateStackedGraph(d)\n",
    "topology = topologicalSort(H)\n",
    "drawSemesterGraph(H)\n",
    "\n",
    "completed = getCompletedCourses(file)"
   ]
  },
  {
   "cell_type": "code",
   "execution_count": 64,
   "metadata": {},
   "outputs": [
    {
     "data": {
      "text/plain": [
       "['Spring 2023',\n",
       " 'Data Structures and Algorithms 1',\n",
       " 'Discrete Math and Theory 1',\n",
       " 'Computer Systems and Organization 1',\n",
       " 'Fall 2023',\n",
       " 'Data Structures and Algorithms 2',\n",
       " 'Computer Systems and Organization 2',\n",
       " 'Cybersecurity',\n",
       " 'Software Development Essentials',\n",
       " 'Spring 2024',\n",
       " 'Advanced Software Development',\n",
       " 'Virtual Worlds and Reality',\n",
       " 'Data Visualization',\n",
       " 'Fall 2024',\n",
       " 'Internet Scale Architecture',\n",
       " 'Discrete Math and Theory 2']"
      ]
     },
     "execution_count": 64,
     "metadata": {},
     "output_type": "execute_result"
    }
   ],
   "source": [
    "completed"
   ]
  },
  {
   "cell_type": "code",
   "execution_count": 65,
   "metadata": {},
   "outputs": [],
   "source": [
    "file = \"example_cs_major edit.txt\" # course reqs in $course, $prerequisite1, $prerequisite2 form\n",
    "d = generateDict(file)\n",
    "G = generateGraph(d)\n",
    "topology = topologicalSort(G)\n",
    "drawGraph(G, completed)"
   ]
  },
  {
   "cell_type": "code",
   "execution_count": 66,
   "metadata": {},
   "outputs": [
    {
     "data": {
      "text/plain": [
       "1"
      ]
     },
     "execution_count": 66,
     "metadata": {},
     "output_type": "execute_result"
    },
    {
     "data": {
      "image/png": "[encoded data removed]",
      "text/plain": [
       "<Figure size 2650x100 with 1 Axes>"
      ]
     },
     "metadata": {},
     "output_type": "display_data"
    }
   ],
   "source": [
    "percentage = 80\n",
    "generateBarGraph(percentage)"
   ]
  },
  {
   "cell_type": "code",
   "execution_count": 67,
   "metadata": {},
   "outputs": [],
   "source": [
    "drawMajorRequirements()"
   ]
  },
  {
   "cell_type": "code",
   "execution_count": 68,
   "metadata": {},
   "outputs": [
    {
     "data": {
      "text/plain": [
       "12"
      ]
     },
     "execution_count": 68,
     "metadata": {},
     "output_type": "execute_result"
    }
   ],
   "source": [
    "# stack pdf files\n",
    "stackPDFs()\n",
    "\n",
    "import os\n",
    "os.open(\"output.pdf\", os.O_RDWR)"
   ]
  }
 ],
 "metadata": {
  "kernelspec": {
   "display_name": "Python 3",
   "language": "python",
   "name": "python3"
  },
  "language_info": {
   "codemirror_mode": {
    "name": "ipython",
    "version": 3
   },
   "file_extension": ".py",
   "mimetype": "text/x-python",
   "name": "python",
   "nbconvert_exporter": "python",
   "pygments_lexer": "ipython3",
   "version": "3.11.3"
  }
 },
 "nbformat": 4,
 "nbformat_minor": 2
}
