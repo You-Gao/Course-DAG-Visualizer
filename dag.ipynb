{
 "cells": [
  {
   "cell_type": "code",
   "execution_count": 51,
   "metadata": {},
   "outputs": [],
   "source": [
    "import networkx as nx\n",
    "import pandas as pd\n",
    "import matplotlib.pyplot as plt\n",
    "from graphviz import Digraph"
   ]
  },
  {
   "cell_type": "code",
   "execution_count": 55,
   "metadata": {},
   "outputs": [],
   "source": [
    "def generateDict(file):\n",
    "    d = {}\n",
    "    with open(file) as f:\n",
    "        for line in f:\n",
    "            content = line.replace(\"\\n\", \"\").split(\",\")\n",
    "            course = content[0]\n",
    "            prerequisites = [x.strip() for x in content[1:]]\n",
    "            d[course] = prerequisites\n",
    "    return d\n",
    "\n",
    "def generateGraph(d):\n",
    "    G = nx.DiGraph()\n",
    "    for course in d:\n",
    "        G.add_node(course)\n",
    "        for prerequisite in d[course]:\n",
    "            G.add_edge(course, prerequisite)\n",
    "    return G\n",
    "\n",
    "def topologicalSort(G):\n",
    "    return list(nx.topological_sort(G))\n",
    "\n",
    "def drawGraph(G):\n",
    "    dot = Digraph()\n",
    "    for node in G.nodes():\n",
    "        dot.node(node)\n",
    "    for edge in G.edges():\n",
    "        dot.edge(edge[0], edge[1])\n",
    "    \n",
    "    dot.graph_attr['rankdir'] = 'BT'\n",
    "    dot.graph_attr['size'] = '8,20'\n",
    "    dot.render('stats_major_pathway_uva.gv', view=True)"
   ]
  },
  {
   "cell_type": "code",
   "execution_count": 56,
   "metadata": {},
   "outputs": [],
   "source": [
    "file = \"stat_major.txt\"\n",
    "d = generateDict(file)\n",
    "G = generateGraph(d)\n",
    "topology = topologicalSort(G)\n",
    "drawGraph(G)"
   ]
  }
 ],
 "metadata": {
  "kernelspec": {
   "display_name": "Python 3",
   "language": "python",
   "name": "python3"
  },
  "language_info": {
   "codemirror_mode": {
    "name": "ipython",
    "version": 3
   },
   "file_extension": ".py",
   "mimetype": "text/x-python",
   "name": "python",
   "nbconvert_exporter": "python",
   "pygments_lexer": "ipython3",
   "version": "3.11.3"
  }
 },
 "nbformat": 4,
 "nbformat_minor": 2
}
