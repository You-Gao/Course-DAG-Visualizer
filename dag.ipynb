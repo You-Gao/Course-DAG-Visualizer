{
 "cells": [
  {
   "cell_type": "code",
   "execution_count": 1,
   "metadata": {},
   "outputs": [],
   "source": [
    "import networkx as nx\n",
    "import pandas as pd\n",
    "import seaborn as sns\n",
    "import matplotlib.pyplot as plt\n",
    "from graphviz import Digraph\n",
    "sns.set(style=\"ticks\")\n"
   ]
  },
  {
   "cell_type": "code",
   "execution_count": 16,
   "metadata": {},
   "outputs": [],
   "source": [
    "# need a way to skip introduciton classes\n",
    "def generateDict(file):\n",
    "    d = {}\n",
    "    with open(file) as f:\n",
    "        for line in f:\n",
    "            content = line.replace(\"\\n\", \"\").split(\",\")\n",
    "            course = content[0]\n",
    "            prerequisites = [x.strip() for x in content[1:]]\n",
    "            prerequisites.sort(key=len, reverse=True)\n",
    "            d[course] = prerequisites\n",
    "    return d\n",
    "\n",
    "def generateBarGraph(percentage):\n",
    "    plt.figure(figsize=(26.5, 1))\n",
    "    series = pd.Series(percentage)\n",
    "    sns.barplot(x=series.values, y=series.index.astype(str), color=\"black\")\n",
    "    plt.xticks(range(0, 101, 10), size=20)\n",
    "    plt.yticks([])\n",
    "    sns.despine(left=True, bottom=True)\n",
    "    plt.title(\"Course Progress for CS Major\", fontsize = 30, fontfamily = \"monospace\")\n",
    "    plt.savefig('bar_graph.pdf', bbox_inches='tight', pad_inches=0.1)\n",
    "    return 1\n",
    "\n",
    "def generateGraph(d):\n",
    "    G = nx.DiGraph()\n",
    "    for course in d:\n",
    "        G.add_node(course)\n",
    "        for prerequisite in d[course]:\n",
    "            G.add_edge(course, prerequisite)\n",
    "    return G\n",
    "\n",
    "def generateStackedGraph(d):\n",
    "    G = nx.DiGraph()\n",
    "    for course in d:\n",
    "        G.add_node(course)\n",
    "        before_node = course\n",
    "        for prerequisite in d[course]:\n",
    "            G.add_edge(before_node, prerequisite)\n",
    "            before_node = prerequisite \n",
    "    return G\n",
    "\n",
    "def topologicalSort(G):\n",
    "    return list(nx.topological_sort(G))\n",
    "\n",
    "def drawGraph(G):\n",
    "    dot = Digraph()\n",
    "    for node in G.nodes():\n",
    "        dot.node(node)\n",
    "    for edge in G.edges():\n",
    "        dot.edge(edge[0], edge[1])\n",
    "    \n",
    "    dot.graph_attr['ranksep'] = '7.5'\n",
    "    dot.node_attr['shape'] = 'box'\n",
    "    dot.node_attr['nodesep'] = '2'\n",
    "    dot.graph_attr['rankdir'] = 'RL'\n",
    "    dot.node_attr.update(fontsize='50')\n",
    "    dot.graph_attr['size'] = '20,10'\n",
    "    \n",
    "    dot.render('course_pathway.gv', view=True)\n",
    "    \n",
    "def drawSemesterGraph(G):\n",
    "    dot = Digraph()\n",
    "    for node in G.nodes():\n",
    "        dot.node(node)\n",
    "    for edge in G.edges():\n",
    "        dot.edge(edge[0], edge[1])\n",
    "    \n",
    "    dot.attr('node', shape='plain')\n",
    "    \n",
    "    dot.graph_attr['ranksep'] = '.3'\n",
    "    dot.node_attr['shape'] = 'box'\n",
    "    dot.graph_attr['rankdir'] = 'TB'\n",
    "    dot.node_attr.update(fontsize='50')\n",
    "    dot.graph_attr['size'] = '20,10'\n",
    "\n",
    "    # title name edited on later\n",
    "    dot.attr(label=\" \", labelloc=\"tp\", fontsize='75', fontname=\"monospace\")\n",
    "\n",
    "    \n",
    "        \n",
    "    dot.render('semesters.gv', view=True)\n",
    "        \n",
    "# stack pdf files\n",
    "def stackPDFs():\n",
    "    import PyPDF2\n",
    "    pdfs = ['bar_graph.pdf','semesters.gv.pdf','course_pathway.gv.pdf']\n",
    "    merger = PyPDF2.PdfMerger()\n",
    "    for pdf in pdfs:\n",
    "        merger.append(pdf)\n",
    "    merger.write(\"output.pdf\")\n",
    "    merger.close()\n",
    "    "
   ]
  },
  {
   "cell_type": "code",
   "execution_count": 17,
   "metadata": {},
   "outputs": [],
   "source": [
    "file = \"example_cs_major edit.txt\" # course reqs in $course, $prerequisite1, $prerequisite2 form\n",
    "d = generateDict(file)\n",
    "G = generateGraph(d)\n",
    "topology = topologicalSort(G)\n",
    "drawGraph(G)"
   ]
  },
  {
   "cell_type": "code",
   "execution_count": 4,
   "metadata": {},
   "outputs": [],
   "source": [
    "file = \"personal.txt\" # courses taken in $semester, $prerequisite1, $prerequisite2 form\n",
    "d = generateDict(file)\n",
    "H = generateStackedGraph(d)\n",
    "topology = topologicalSort(H)\n",
    "drawSemesterGraph(H)"
   ]
  },
  {
   "cell_type": "code",
   "execution_count": 5,
   "metadata": {},
   "outputs": [
    {
     "data": {
      "text/plain": [
       "1"
      ]
     },
     "execution_count": 5,
     "metadata": {},
     "output_type": "execute_result"
    },
    {
     "data": {
      "image/png": "[encoded data removed]",
      "text/plain": [
       "<Figure size 2650x100 with 1 Axes>"
      ]
     },
     "metadata": {},
     "output_type": "display_data"
    }
   ],
   "source": [
    "percentage = 80\n",
    "generateBarGraph(percentage)"
   ]
  },
  {
   "cell_type": "code",
   "execution_count": 18,
   "metadata": {},
   "outputs": [
    {
     "data": {
      "text/plain": [
       "11"
      ]
     },
     "execution_count": 18,
     "metadata": {},
     "output_type": "execute_result"
    }
   ],
   "source": [
    "# stack pdf files\n",
    "stackPDFs()\n",
    "\n",
    "import os\n",
    "os.open(\"output.pdf\", os.O_RDWR)"
   ]
  }
 ],
 "metadata": {
  "kernelspec": {
   "display_name": "Python 3",
   "language": "python",
   "name": "python3"
  },
  "language_info": {
   "codemirror_mode": {
    "name": "ipython",
    "version": 3
   },
   "file_extension": ".py",
   "mimetype": "text/x-python",
   "name": "python",
   "nbconvert_exporter": "python",
   "pygments_lexer": "ipython3",
   "version": "3.11.3"
  }
 },
 "nbformat": 4,
 "nbformat_minor": 2
}
